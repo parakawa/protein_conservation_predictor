{
 "cells": [
  {
   "cell_type": "code",
   "execution_count": 1,
   "id": "b1585f82-face-40b6-bcb5-a314678aeed9",
   "metadata": {},
   "outputs": [],
   "source": [
    "import os\n",
    "import torch\n",
    "from Bio import SeqIO\n",
    "import pandas as pd\n",
    "import random"
   ]
  },
  {
   "cell_type": "code",
   "execution_count": 2,
   "id": "ed5e6915-dfcd-4181-a734-ec2d801ee862",
   "metadata": {},
   "outputs": [
    {
     "name": "stdout",
     "output_type": "stream",
     "text": [
      "vectors 3\n"
     ]
    }
   ],
   "source": [
    "def reduce_data(fasta_file, csv_file, reduced_amount, reduced_fasta_file, reduced_csv_file):\n",
    "    # Read the FASTA file and select a random subset of sequences\n",
    "    fasta_sequences = {}\n",
    "    selected_identifiers = []\n",
    "    with open(fasta_file, \"r\") as fasta:\n",
    "        records = list(SeqIO.parse(fasta, \"fasta\"))\n",
    "        random.shuffle(records)\n",
    "        selected_records = records[:reduced_amount]\n",
    "        for record in selected_records:\n",
    "            fasta_sequences[record.id] = str(record.seq)\n",
    "            selected_identifiers.append(record.id)\n",
    "\n",
    "    # Read the CSV file and store conservation scores for matching identifiers\n",
    "    csv_data = pd.read_csv(csv_file, delimiter='\\t', index_col=0)\n",
    "    reduced_csv_data = pd.DataFrame(\n",
    "        columns=csv_data.columns)  # Create an empty DataFrame\n",
    "    for identifier in selected_identifiers:\n",
    "        # Search for partial matches in the index\n",
    "        matching_index = csv_data.index[csv_data.index.str.contains(\n",
    "            identifier)]\n",
    "        if len(matching_index) > 0:\n",
    "            reduced_csv_data = pd.concat(\n",
    "                [reduced_csv_data, csv_data.loc[matching_index]])\n",
    "\n",
    "    # Write reduced data to new files\n",
    "    with open(reduced_fasta_file, \"w\") as fasta_reduced:\n",
    "        with open(reduced_csv_file, \"w\") as csv_reduced:\n",
    "            for identifier, sequence in fasta_sequences.items():\n",
    "                fasta_reduced.write(f\">{identifier}\\n{sequence}\\n\")\n",
    "            reduced_csv_data.to_csv(csv_reduced, sep='\\t')\n",
    "\n",
    "\n",
    "# reduce_data(\"curated_dataset/sequences.fasta\", \"curated_dataset/conservation_scores_formated.csv\", 1000,\"curated_dataset/reduced_input.fasta\", \"curated_dataset/reduced_input.csv\")\n",
    "\n",
    "# esm-extract esm2_t6_8M_UR50D curated_dataset/reduced_input.fasta curated_dataset/example_embeddings_esm2_reduced_input --repr_layers 0 5 6 --include mean per_tok\n",
    "\n",
    "def get_embeddings_vectors_sample_data(folder_path):\n",
    "\n",
    "    # Get the list of files in the folder\n",
    "    files = os.listdir(folder_path)\n",
    "\n",
    "    # Filter the files to only include .pt files\n",
    "    pt_files = [file for file in files if file.endswith('.pt')]\n",
    "\n",
    "    # Initialize a list to store the vectors\n",
    "    vectors = []\n",
    "\n",
    "    # Load the vectors from each .pt file\n",
    "    for file in pt_files:\n",
    "        file_path = os.path.join(folder_path, file)\n",
    "        embeddings = torch.load(file_path)[\"representations\"][6]\n",
    "        #embeddings = torch.load(file_path)[\"representations\"][6]\n",
    "        float_vector = embeddings.numpy().astype(float)\n",
    "        vectors.append(float_vector)\n",
    "    return vectors\n",
    "\n",
    "\n",
    "vectors = get_embeddings_vectors_sample_data('sample_data/example_embeddings_esm2')\n",
    "print(\"vectors\", len(vectors))\n"
   ]
  },
  {
   "cell_type": "code",
   "execution_count": null,
   "id": "7b291aae-79bf-4521-833d-c51dc2c2f221",
   "metadata": {},
   "outputs": [],
   "source": []
  }
 ],
 "metadata": {
  "kernelspec": {
   "display_name": "mi_entorno",
   "language": "python",
   "name": "mi_entorno"
  },
  "language_info": {
   "codemirror_mode": {
    "name": "ipython",
    "version": 3
   },
   "file_extension": ".py",
   "mimetype": "text/x-python",
   "name": "python",
   "nbconvert_exporter": "python",
   "pygments_lexer": "ipython3",
   "version": "3.8.10"
  }
 },
 "nbformat": 4,
 "nbformat_minor": 5
}
