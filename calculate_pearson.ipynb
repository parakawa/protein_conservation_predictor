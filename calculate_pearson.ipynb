{
 "cells": [
  {
   "cell_type": "code",
   "execution_count": 1,
   "id": "15fa3bb8-7992-4786-b6c0-f69826236c52",
   "metadata": {},
   "outputs": [],
   "source": [
    "import pandas as pd\n",
    "from scipy.stats import pearsonr\n",
    "import math\n"
   ]
  },
  {
   "cell_type": "code",
   "execution_count": 2,
   "id": "70b22f44-a820-4d78-bd34-9f7bc5157c41",
   "metadata": {},
   "outputs": [],
   "source": [
    "\n",
    "\n",
    "def read_and_preprocess(file_path):\n",
    "    predicted_df = pd.read_csv(file_path)\n",
    "    print(\"predicted_df\", predicted_df)\n",
    "\n",
    "\n",
    "    true_df = pd.read_csv(\"curated_dataset/conservation_scores.csv\")\n",
    "\n",
    "    df = pd.DataFrame(true_df)\n",
    "    df['conservation score'] = df['conservation score'].astype(str)\n",
    "\n",
    "    true_df = df.groupby('sequence id')['conservation score'].agg(' '.join).reset_index()\n",
    "\n",
    "    # partie common des sequences\n",
    "    predicted_df['sequence_id'] = predicted_df['header'].str.extract(r'([A-Za-z0-9]+\\.[0-9]+/[0-9]+-[0-9]+)')\n",
    "    true_df['sequence_id'] = true_df['sequence id'].str.extract(r'([A-Za-z0-9]+\\.[0-9]+/[0-9]+-[0-9]+)')\n",
    "\n",
    "    return predicted_df, true_df\n",
    "\n",
    "def calculate_pearson(predicted_df, true_df):\n",
    "    # Fusioner les DataFrames par le cologne 'sequence_id'\n",
    "    combined_df = pd.merge(predicted_df, true_df, how='inner',\n",
    "                           left_on='sequence_id', right_on='sequence_id')\n",
    "\n",
    "    # Convertir les valeurs de 'conservation' y 'conservation score' a float lists\n",
    "    combined_df['conservation'] = combined_df['conservation'].apply(lambda x: [float(val) for val in x.split()])\n",
    "    combined_df['conservation score'] = combined_df['conservation score'].apply(lambda x: [float(val) for val in x.split()])\n",
    "\n",
    "    # Supprimer rows qui contient infinite ou NaNs\n",
    "    combined_df = combined_df[~combined_df['conservation'].apply(lambda x: any(math.isinf(val) or math.isnan(val) for val in x))]\n",
    "    combined_df = combined_df[~combined_df['conservation score'].apply(lambda x: any(math.isinf(val) or math.isnan(val) for val in x))]\n",
    "\n",
    "    pearson_coefficient, _ = pearsonr(\n",
    "        combined_df['conservation'].explode(), combined_df['conservation score'].explode())\n",
    "    return pearson_coefficient"
   ]
  },
  {
   "cell_type": "code",
   "execution_count": 4,
   "id": "f77d74f5-9910-4ed1-bfd1-c6e4748499b1",
   "metadata": {},
   "outputs": [
    {
     "name": "stdout",
     "output_type": "stream",
     "text": [
      "predicted_df                                                  header  \\\n",
      "0      A0A1Y2ANA8.1/421-668 Pfam=PF00003.25 type=domain   \n",
      "1           V3ZBP4.1/12-278 Pfam=PF00003.25 type=domain   \n",
      "2      A0A226EIY0.1/621-830 Pfam=PF00003.25 type=domain   \n",
      "3      A0A6J1SJU2.1/386-517 Pfam=PF00004.32 type=domain   \n",
      "4          Q54ST1.1/607-740 Pfam=PF00004.32 type=domain   \n",
      "...                                                 ...   \n",
      "35866      A0A5B9Q753.1/5-47 Pfam=PF20607.1 type=family   \n",
      "35867      A0A3M1R399.1/5-47 Pfam=PF20607.1 type=family   \n",
      "35868     A0A7K3NCN5.1/12-97 Pfam=PF20619.1 type=family   \n",
      "35869      A0A1M6TTR7.1/1-91 Pfam=PF20619.1 type=family   \n",
      "35870     A0A5J5ICB5.1/11-99 Pfam=PF20619.1 type=family   \n",
      "\n",
      "                                                sequence  \\\n",
      "0      KWTDIPAIIIGGISVVGIIITLVVFFITVKNRNALVIRRSSPLFLY...   \n",
      "1      AVMSWIIGCVIALVSLVYLVLNIKLRNTRLIKMSSPNLNCLVASGG...   \n",
      "2      YLNPLAMAAMIFSGFGILLALFVLKVFWRYNDTPIIKAAGRELSYV...   \n",
      "3      VLLFGPSGTGKTMLAHALAQDSAASVHTLIGSELFSKVLGETDARL...   \n",
      "4      IILYGPPGCSKTTLVKAVASSSKLSFLSLSGATIFSPYLGDSEQTI...   \n",
      "...                                                  ...   \n",
      "35866        ERQRELRRRRKRRHKLAQLKGKLAKATQSEKLEIVRKLREMSP   \n",
      "35867        RQAELRRRRTRRAKLAKLRRRYMAAKTEEEKAWVLQKVQKIAP   \n",
      "35868  ITSACCALLLFLAVLRVPREYYWLLRTVIFIGALVVIVKNRKHLYW...   \n",
      "35869  MEKIIKVILALLFFLCLLNMPYGYYELVRFVAFASFGFLAYKANQE...   \n",
      "35870  SLVAFGIVIALVIGAAIPHQYSYYIIMRWFIMTTFTYFVFTSCKNK...   \n",
      "\n",
      "                                            conservation  \n",
      "0      0.3665 0.5931 0.2539 0.4050 0.3122 0.5433 0.28...  \n",
      "1      0.3676 0.2135 0.3174 0.2917 0.6148 0.3385 0.27...  \n",
      "2      0.4752 0.2566 0.4019 0.4518 0.2925 0.3223 0.34...  \n",
      "3      0.6187 0.4781 0.5819 0.5375 0.7532 0.7767 0.70...  \n",
      "4      0.5661 0.3922 0.5771 0.6245 0.7180 0.7231 0.90...  \n",
      "...                                                  ...  \n",
      "35866  0.4774 0.5511 0.4571 0.4921 0.5191 0.3993 0.56...  \n",
      "35867  0.5537 0.4379 0.3143 0.4596 0.3642 0.5203 0.55...  \n",
      "35868  0.3725 0.3510 0.3557 0.3553 0.6144 0.6342 0.38...  \n",
      "35869  0.5459 0.2214 0.3069 0.3486 0.3484 0.4187 0.31...  \n",
      "35870  0.4040 0.3699 0.4110 0.4037 0.5318 0.5029 0.44...  \n",
      "\n",
      "[35871 rows x 3 columns]\n",
      "0.3828766005454895\n"
     ]
    }
   ],
   "source": [
    "file_name = \"output_results_curated_8M.csv\"\n",
    "predicted_df, true_df = read_and_preprocess(file_name)\n",
    "print(calculate_pearson(predicted_df, true_df))"
   ]
  },
  {
   "cell_type": "code",
   "execution_count": null,
   "id": "2ad74466-9148-4a83-8093-a0d78bb24ce5",
   "metadata": {},
   "outputs": [],
   "source": []
  }
 ],
 "metadata": {
  "kernelspec": {
   "display_name": "mi_entorno",
   "language": "python",
   "name": "mi_entorno"
  },
  "language_info": {
   "codemirror_mode": {
    "name": "ipython",
    "version": 3
   },
   "file_extension": ".py",
   "mimetype": "text/x-python",
   "name": "python",
   "nbconvert_exporter": "python",
   "pygments_lexer": "ipython3",
   "version": "3.8.10"
  }
 },
 "nbformat": 4,
 "nbformat_minor": 5
}
