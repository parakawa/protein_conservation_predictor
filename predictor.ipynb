{
 "cells": [
  {
   "cell_type": "code",
   "execution_count": 2,
   "id": "476fa79e-8baa-455f-a4a6-2854f325f867",
   "metadata": {},
   "outputs": [
    {
     "name": "stdout",
     "output_type": "stream",
     "text": [
      "predicted_df                                                  header  \\\n",
      "0      A0A1Y2ANA8.1/421-668 Pfam=PF00003.25 type=domain   \n",
      "1           V3ZBP4.1/12-278 Pfam=PF00003.25 type=domain   \n",
      "2      A0A226EIY0.1/621-830 Pfam=PF00003.25 type=domain   \n",
      "3      A0A6J1SJU2.1/386-517 Pfam=PF00004.32 type=domain   \n",
      "4          Q54ST1.1/607-740 Pfam=PF00004.32 type=domain   \n",
      "...                                                 ...   \n",
      "35866      A0A5B9Q753.1/5-47 Pfam=PF20607.1 type=family   \n",
      "35867      A0A3M1R399.1/5-47 Pfam=PF20607.1 type=family   \n",
      "35868     A0A7K3NCN5.1/12-97 Pfam=PF20619.1 type=family   \n",
      "35869      A0A1M6TTR7.1/1-91 Pfam=PF20619.1 type=family   \n",
      "35870     A0A5J5ICB5.1/11-99 Pfam=PF20619.1 type=family   \n",
      "\n",
      "                                                sequence  \\\n",
      "0      KWTDIPAIIIGGISVVGIIITLVVFFITVKNRNALVIRRSSPLFLY...   \n",
      "1      AVMSWIIGCVIALVSLVYLVLNIKLRNTRLIKMSSPNLNCLVASGG...   \n",
      "2      YLNPLAMAAMIFSGFGILLALFVLKVFWRYNDTPIIKAAGRELSYV...   \n",
      "3      VLLFGPSGTGKTMLAHALAQDSAASVHTLIGSELFSKVLGETDARL...   \n",
      "4      IILYGPPGCSKTTLVKAVASSSKLSFLSLSGATIFSPYLGDSEQTI...   \n",
      "...                                                  ...   \n",
      "35866        ERQRELRRRRKRRHKLAQLKGKLAKATQSEKLEIVRKLREMSP   \n",
      "35867        RQAELRRRRTRRAKLAKLRRRYMAAKTEEEKAWVLQKVQKIAP   \n",
      "35868  ITSACCALLLFLAVLRVPREYYWLLRTVIFIGALVVIVKNRKHLYW...   \n",
      "35869  MEKIIKVILALLFFLCLLNMPYGYYELVRFVAFASFGFLAYKANQE...   \n",
      "35870  SLVAFGIVIALVIGAAIPHQYSYYIIMRWFIMTTFTYFVFTSCKNK...   \n",
      "\n",
      "                                            conservation  \n",
      "0      0.3665 0.5931 0.2539 0.4050 0.3122 0.5433 0.28...  \n",
      "1      0.3676 0.2135 0.3174 0.2917 0.6148 0.3385 0.27...  \n",
      "2      0.4752 0.2566 0.4019 0.4518 0.2925 0.3223 0.34...  \n",
      "3      0.6187 0.4781 0.5819 0.5375 0.7532 0.7767 0.70...  \n",
      "4      0.5661 0.3922 0.5771 0.6245 0.7180 0.7231 0.90...  \n",
      "...                                                  ...  \n",
      "35866  0.4774 0.5511 0.4571 0.4921 0.5191 0.3993 0.56...  \n",
      "35867  0.5537 0.4379 0.3143 0.4596 0.3642 0.5203 0.55...  \n",
      "35868  0.3725 0.3510 0.3557 0.3553 0.6144 0.6342 0.38...  \n",
      "35869  0.5459 0.2214 0.3069 0.3486 0.3484 0.4187 0.31...  \n",
      "35870  0.4040 0.3699 0.4110 0.4037 0.5318 0.5029 0.44...  \n",
      "\n",
      "[35871 rows x 3 columns]\n"
     ]
    }
   ],
   "source": [
    "import pandas as pd\n",
    "from scipy.stats import pearsonr\n",
    "import math\n",
    "\n",
    "\n",
    "# Lee los primeros 100 resultados de conservación predichos\n",
    "#file_name = \"output_results_curated_8M.csv\"\n",
    "file_name = \"output_results_curated_8M.csv\"\n",
    "predicted_df = pd.read_csv(file_name)\n",
    "print(\"predicted_df\", predicted_df)\n",
    "\n",
    "\n"
   ]
  },
  {
   "cell_type": "code",
   "execution_count": 3,
   "id": "04389c61-74e4-4f1b-82a1-615ddbabaafc",
   "metadata": {},
   "outputs": [
    {
     "name": "stdout",
     "output_type": "stream",
     "text": [
      "                sequence id                                 conservation score\n",
      "0       A0A009J727.1/56-242  0.500488 0.436523 0.448975 0.209595 0.193726 0...\n",
      "1      A0A009KMN5.1/230-429  0.329834 0.481934 0.342285 0.564941 0.238525 0...\n",
      "2      A0A010NKV5.1/319-434  0.318115 0.44165 0.150513 0.206177 0.512695 0....\n",
      "3        A0A010QH20.1/5-204  0.571289 0.745605 0.554688 0.400146 0.46582 0....\n",
      "4      A0A010YGC5.1/692-820  0.056244 0.05899 0.143555 0.117065 0.127563 0....\n",
      "...                     ...                                                ...\n",
      "35866         Z9JGP6.1/5-79  0.178955 0.203369 0.152954 0.325195 0.210815 0...\n",
      "35867        Z9JGW4.1/23-78  0.232544 0.265381 0.25415 0.260742 0.244019 0....\n",
      "35868        Z9JK55.1/3-273  0.025726 0.046112 0.07605 0.068909 0.122986 0....\n",
      "35869       Z9JRB9.1/29-175  0.128906 0.202637 0.273438 0.494873 0.277588 0...\n",
      "35870         Z9JX40.1/5-99  0.375 0.76416 0.414551 0.384277 0.436768 0.251...\n",
      "\n",
      "[35871 rows x 2 columns]\n"
     ]
    }
   ],
   "source": [
    "true_df = pd.read_csv(\"curated_dataset/conservation_scores.csv\")\n",
    "#true_df = true_df.groupby(true_df.columns[0]).head(1).head(100).reset_index(drop=True)\n",
    "\n",
    "df = pd.DataFrame(true_df)\n",
    "\n",
    "# Convertir 'conservation score' a cadena antes de unir\n",
    "df['conservation score'] = df['conservation score'].astype(str)\n",
    "\n",
    "# Agrupar y concatenar los valores de 'conservation score'\n",
    "true_df = df.groupby('sequence id')['conservation score'].agg(' '.join).reset_index()\n",
    "\n",
    "print(true_df)"
   ]
  },
  {
   "cell_type": "code",
   "execution_count": 4,
   "id": "c7444f94-260d-43ae-a6da-1e47cfb0cd90",
   "metadata": {},
   "outputs": [
    {
     "name": "stdout",
     "output_type": "stream",
     "text": [
      "                                                 header  \\\n",
      "0      A0A1Y2ANA8.1/421-668 Pfam=PF00003.25 type=domain   \n",
      "1           V3ZBP4.1/12-278 Pfam=PF00003.25 type=domain   \n",
      "2      A0A226EIY0.1/621-830 Pfam=PF00003.25 type=domain   \n",
      "3      A0A6J1SJU2.1/386-517 Pfam=PF00004.32 type=domain   \n",
      "4          Q54ST1.1/607-740 Pfam=PF00004.32 type=domain   \n",
      "...                                                 ...   \n",
      "35866      A0A5B9Q753.1/5-47 Pfam=PF20607.1 type=family   \n",
      "35867      A0A3M1R399.1/5-47 Pfam=PF20607.1 type=family   \n",
      "35868     A0A7K3NCN5.1/12-97 Pfam=PF20619.1 type=family   \n",
      "35869      A0A1M6TTR7.1/1-91 Pfam=PF20619.1 type=family   \n",
      "35870     A0A5J5ICB5.1/11-99 Pfam=PF20619.1 type=family   \n",
      "\n",
      "                                                sequence  \\\n",
      "0      KWTDIPAIIIGGISVVGIIITLVVFFITVKNRNALVIRRSSPLFLY...   \n",
      "1      AVMSWIIGCVIALVSLVYLVLNIKLRNTRLIKMSSPNLNCLVASGG...   \n",
      "2      YLNPLAMAAMIFSGFGILLALFVLKVFWRYNDTPIIKAAGRELSYV...   \n",
      "3      VLLFGPSGTGKTMLAHALAQDSAASVHTLIGSELFSKVLGETDARL...   \n",
      "4      IILYGPPGCSKTTLVKAVASSSKLSFLSLSGATIFSPYLGDSEQTI...   \n",
      "...                                                  ...   \n",
      "35866        ERQRELRRRRKRRHKLAQLKGKLAKATQSEKLEIVRKLREMSP   \n",
      "35867        RQAELRRRRTRRAKLAKLRRRYMAAKTEEEKAWVLQKVQKIAP   \n",
      "35868  ITSACCALLLFLAVLRVPREYYWLLRTVIFIGALVVIVKNRKHLYW...   \n",
      "35869  MEKIIKVILALLFFLCLLNMPYGYYELVRFVAFASFGFLAYKANQE...   \n",
      "35870  SLVAFGIVIALVIGAAIPHQYSYYIIMRWFIMTTFTYFVFTSCKNK...   \n",
      "\n",
      "                                            conservation           sequence_id  \n",
      "0      0.3665 0.5931 0.2539 0.4050 0.3122 0.5433 0.28...  A0A1Y2ANA8.1/421-668  \n",
      "1      0.3676 0.2135 0.3174 0.2917 0.6148 0.3385 0.27...       V3ZBP4.1/12-278  \n",
      "2      0.4752 0.2566 0.4019 0.4518 0.2925 0.3223 0.34...  A0A226EIY0.1/621-830  \n",
      "3      0.6187 0.4781 0.5819 0.5375 0.7532 0.7767 0.70...  A0A6J1SJU2.1/386-517  \n",
      "4      0.5661 0.3922 0.5771 0.6245 0.7180 0.7231 0.90...      Q54ST1.1/607-740  \n",
      "...                                                  ...                   ...  \n",
      "35866  0.4774 0.5511 0.4571 0.4921 0.5191 0.3993 0.56...     A0A5B9Q753.1/5-47  \n",
      "35867  0.5537 0.4379 0.3143 0.4596 0.3642 0.5203 0.55...     A0A3M1R399.1/5-47  \n",
      "35868  0.3725 0.3510 0.3557 0.3553 0.6144 0.6342 0.38...    A0A7K3NCN5.1/12-97  \n",
      "35869  0.5459 0.2214 0.3069 0.3486 0.3484 0.4187 0.31...     A0A1M6TTR7.1/1-91  \n",
      "35870  0.4040 0.3699 0.4110 0.4037 0.5318 0.5029 0.44...    A0A5J5ICB5.1/11-99  \n",
      "\n",
      "[35871 rows x 4 columns]\n",
      "                sequence id  \\\n",
      "0       A0A009J727.1/56-242   \n",
      "1      A0A009KMN5.1/230-429   \n",
      "2      A0A010NKV5.1/319-434   \n",
      "3        A0A010QH20.1/5-204   \n",
      "4      A0A010YGC5.1/692-820   \n",
      "...                     ...   \n",
      "35866         Z9JGP6.1/5-79   \n",
      "35867        Z9JGW4.1/23-78   \n",
      "35868        Z9JK55.1/3-273   \n",
      "35869       Z9JRB9.1/29-175   \n",
      "35870         Z9JX40.1/5-99   \n",
      "\n",
      "                                      conservation score           sequence_id  \n",
      "0      0.500488 0.436523 0.448975 0.209595 0.193726 0...   A0A009J727.1/56-242  \n",
      "1      0.329834 0.481934 0.342285 0.564941 0.238525 0...  A0A009KMN5.1/230-429  \n",
      "2      0.318115 0.44165 0.150513 0.206177 0.512695 0....  A0A010NKV5.1/319-434  \n",
      "3      0.571289 0.745605 0.554688 0.400146 0.46582 0....    A0A010QH20.1/5-204  \n",
      "4      0.056244 0.05899 0.143555 0.117065 0.127563 0....  A0A010YGC5.1/692-820  \n",
      "...                                                  ...                   ...  \n",
      "35866  0.178955 0.203369 0.152954 0.325195 0.210815 0...         Z9JGP6.1/5-79  \n",
      "35867  0.232544 0.265381 0.25415 0.260742 0.244019 0....        Z9JGW4.1/23-78  \n",
      "35868  0.025726 0.046112 0.07605 0.068909 0.122986 0....        Z9JK55.1/3-273  \n",
      "35869  0.128906 0.202637 0.273438 0.494873 0.277588 0...       Z9JRB9.1/29-175  \n",
      "35870  0.375 0.76416 0.414551 0.384277 0.436768 0.251...         Z9JX40.1/5-99  \n",
      "\n",
      "[35871 rows x 3 columns]\n"
     ]
    }
   ],
   "source": [
    "# Extrae la parte común de las secuencias (puedes ajustar esto según tus necesidades)\n",
    "predicted_df['sequence_id'] = predicted_df['header'].str.extract(r'([A-Za-z0-9]+\\.[0-9]+/[0-9]+-[0-9]+)')\n",
    "true_df['sequence_id'] = true_df['sequence id'].str.extract(r'([A-Za-z0-9]+\\.[0-9]+/[0-9]+-[0-9]+)')\n",
    "\n",
    "\n",
    "print(predicted_df)\n",
    "print(true_df)\n",
    "\n",
    "# Fusionamos los DataFrames por la columna 'common_sequence'\n",
    "combined_df = pd.merge(predicted_df, true_df, how='inner',\n",
    "                       left_on='sequence_id', right_on='sequence_id')\n",
    "\n",
    "\n"
   ]
  },
  {
   "cell_type": "code",
   "execution_count": 5,
   "id": "b5b35600-6299-4f07-8ac7-d5e81a8479c1",
   "metadata": {},
   "outputs": [
    {
     "name": "stdout",
     "output_type": "stream",
     "text": [
      "Coeficiente de Pearson por residuo: 0.3829\n"
     ]
    }
   ],
   "source": [
    "# Convertimos los valores de 'conservation' y 'conservation score' a listas de números\n",
    "combined_df['conservation'] = combined_df['conservation'].apply(lambda x: [float(val) for val in x.split()])\n",
    "combined_df['conservation score'] = combined_df['conservation score'].apply(lambda x: [float(val) for val in x.split()])\n",
    "\n",
    "# Eliminamos filas que contienen infinitos o NaNs\n",
    "combined_df = combined_df[~combined_df['conservation'].apply(lambda x: any(math.isinf(val) or math.isnan(val) for val in x))]\n",
    "combined_df = combined_df[~combined_df['conservation score'].apply(lambda x: any(math.isinf(val) or math.isnan(val) for val in x))]\n",
    "\n",
    "# Calculamos el coeficiente de Pearson por residuo\n",
    "pearson_coefficient, _ = pearsonr(\n",
    "    combined_df['conservation'].explode(), combined_df['conservation score'].explode())\n",
    "print(f\"Coeficiente de Pearson por residuo: {pearson_coefficient:.4f}\")"
   ]
  }
 ],
 "metadata": {
  "kernelspec": {
   "display_name": "mi_entorno",
   "language": "python",
   "name": "mi_entorno"
  },
  "language_info": {
   "codemirror_mode": {
    "name": "ipython",
    "version": 3
   },
   "file_extension": ".py",
   "mimetype": "text/x-python",
   "name": "python",
   "nbconvert_exporter": "python",
   "pygments_lexer": "ipython3",
   "version": "3.8.10"
  }
 },
 "nbformat": 4,
 "nbformat_minor": 5
}
